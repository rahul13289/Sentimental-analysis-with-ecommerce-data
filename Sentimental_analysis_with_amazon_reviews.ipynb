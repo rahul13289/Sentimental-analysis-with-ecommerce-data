{
  "nbformat": 4,
  "nbformat_minor": 0,
  "metadata": {
    "colab": {
      "provenance": []
    },
    "kernelspec": {
      "name": "python3",
      "display_name": "Python 3"
    },
    "language_info": {
      "name": "python"
    }
  },
  "cells": [
    {
      "cell_type": "markdown",
      "source": [
        "#**SENTIMENTAL ANALYSIS WITH AMAZON REVIEWS**"
      ],
      "metadata": {
        "id": "l9fLU2J-jlEy"
      }
    },
    {
      "cell_type": "markdown",
      "source": [
        "The sample dataset was collected which was based in customer product reviews."
      ],
      "metadata": {
        "id": "QFHRqnRJj4B_"
      }
    },
    {
      "cell_type": "code",
      "source": [
        "#Import the required libraries\n",
        "\n",
        "!pip install openpyxl\n",
        "import pandas as pd\n",
        "import numpy as np\n",
        "import pandas as pd\n",
        "import numpy as np\n",
        "import matplotlib.pyplot as plt\n",
        "import seaborn as sns\n",
        "import nltk\n",
        "from nltk.corpus import stopwords\n",
        "from nltk.stem import PorterStemmer\n",
        "import re\n",
        "import tensorflow\n",
        "from tensorflow.keras.preprocessing.sequence import pad_sequences\n",
        "from tensorflow.keras.layers import Embedding, LSTM, Dropout, Dense\n",
        "from tensorflow.keras.models import Sequential"
      ],
      "metadata": {
        "colab": {
          "base_uri": "https://localhost:8080/"
        },
        "id": "Np70woiIjwz4",
        "outputId": "49b7119b-c0f7-484a-9f85-1cf108ededa9"
      },
      "execution_count": null,
      "outputs": [
        {
          "output_type": "stream",
          "name": "stdout",
          "text": [
            "Looking in indexes: https://pypi.org/simple, https://us-python.pkg.dev/colab-wheels/public/simple/\n",
            "Requirement already satisfied: openpyxl in /usr/local/lib/python3.9/dist-packages (3.0.10)\n",
            "Requirement already satisfied: et-xmlfile in /usr/local/lib/python3.9/dist-packages (from openpyxl) (1.1.0)\n"
          ]
        }
      ]
    },
    {
      "cell_type": "code",
      "source": [
        "df=pd.read_excel('review-details.xlsx')\n",
        "df.head(10)"
      ],
      "metadata": {
        "colab": {
          "base_uri": "https://localhost:8080/",
          "height": 838
        },
        "id": "GLiwEWs5k5KM",
        "outputId": "28c1f538-2a18-4384-b59a-c294cc0a20b6"
      },
      "execution_count": null,
      "outputs": [
        {
          "output_type": "execute_result",
          "data": {
            "text/plain": [
              "  report_date       online_store            upc retailer_product_code  \\\n",
              "0  2019-01-02        FRESHAMAZON  8718114216478            B0142CI6FC   \n",
              "1  2019-01-03        FRESHAMAZON  5000184201199            B014DFNNRY   \n",
              "2  2019-01-03        FRESHAMAZON  5000184201199            B014DFNNRY   \n",
              "3  2019-01-03        FRESHAMAZON  8712566479726            B014DFKELC   \n",
              "4  2019-01-03        FRESHAMAZON  8717163536476            B014G37I7E   \n",
              "5  2019-01-04  AMAZONPRIMEPANTRY  5000184201199            B014DFNNRY   \n",
              "6  2019-01-04  AMAZONPRIMEPANTRY  5000184201199            B014DFNNRY   \n",
              "7  2019-01-04  AMAZONPRIMEPANTRY  8712566479726            B014DFKELC   \n",
              "8  2019-01-06        FRESHAMAZON  8718114216324            B0151I60Z4   \n",
              "9  2019-01-07        FRESHAMAZON  8712566479368            B014DFKXKY   \n",
              "\n",
              "           brand       category             sub_category  \\\n",
              "0  Dove Men+Care  Personal Care                     Deos   \n",
              "1        Marmite          Foods                  Savoury   \n",
              "2        Marmite          Foods                  Savoury   \n",
              "3          Knorr          Foods                  Savoury   \n",
              "4            Cif       Homecare                      HHC   \n",
              "5        Marmite          Foods                  Savoury   \n",
              "6        Marmite          Foods                  Savoury   \n",
              "7          Knorr          Foods                  Savoury   \n",
              "8  Dove Men+Care  Personal Care  Deodorants & Fragrances   \n",
              "9          Knorr          Foods                  Savoury   \n",
              "\n",
              "                                 product_description review_date  \\\n",
              "0  Dove Men+Care Extra Fresh Anti-perspirant Deod...  2019-01-01   \n",
              "1                 Marmite  Spread Yeast Extract 500g  2019-01-02   \n",
              "2                 Marmite  Spread Yeast Extract 500g  2019-01-02   \n",
              "3                      Knorr  Beef Stock Pot 8 x 28g  2019-01-02   \n",
              "4                   Cif Citrus Bathroom Mousse 500ml  2019-01-02   \n",
              "5                 Marmite  Spread Yeast Extract 500g  2019-01-02   \n",
              "6                 Marmite  Spread Yeast Extract 500g  2019-01-02   \n",
              "7                      Knorr  Beef Stock Pot 8 x 28g  2019-01-02   \n",
              "8  Dove Men+Care  Clean Comfort Aerosol Anti-pers...  2019-01-05   \n",
              "9                   Knorr  Chicken Stock Pot 8 x 28g  2019-01-06   \n",
              "\n",
              "   review_rating  ...                                         dimension2  \\\n",
              "0              5  ...                     Male Anti-Perspirant Deodorant   \n",
              "1              5  ...                                 COTC Yeast Extract   \n",
              "2              4  ...                                 COTC Yeast Extract   \n",
              "3              5  ...  Beef Stock/Pots/Cubes/Extract/Liquid/Concentrated   \n",
              "4              5  ...                                    Bathroom Mousse   \n",
              "5              4  ...                                      Yeast Extract   \n",
              "6              5  ...                                      Yeast Extract   \n",
              "7              5  ...  Beef Stock/Pots/Cubes/Extract/Liquid/Concentrated   \n",
              "8              4  ...                     Male Anti-Perspirant Deodorant   \n",
              "9              5  ...  Chicken Stock/Pots/Cubes/Extract/Liquid/Concen...   \n",
              "\n",
              "                            dimension3  dimension4 dimension5 dimension6  \\\n",
              "0  COTC Male Anti-Perspirant Deodorant         NaN        NaN        NaN   \n",
              "1                   COTC Yeast Extract         NaN        NaN        NaN   \n",
              "2                   COTC Yeast Extract         NaN        NaN        NaN   \n",
              "3                           Stock Pots         NaN        NaN        NaN   \n",
              "4                      Bathroom Mousse         NaN        NaN        NaN   \n",
              "5                   COTC Yeast Extract         NaN        NaN        NaN   \n",
              "6                   COTC Yeast Extract         NaN        NaN        NaN   \n",
              "7                           Stock Pots         NaN        NaN        NaN   \n",
              "8  COTC Male Anti-Perspirant Deodorant         NaN        NaN        NaN   \n",
              "9                           Stock Pots         NaN        NaN        NaN   \n",
              "\n",
              "                            dimension7        dimension8 verified_purchase  \\\n",
              "0  COTC Male Anti-Perspirant Deodorant  Core of the Core              True   \n",
              "1                   COTC Yeast Extract  Core of the Core              True   \n",
              "2                   COTC Yeast Extract  Core of the Core              True   \n",
              "3                           Stock Pots  Core of the Core              True   \n",
              "4                                  NaN  Core of the Core             False   \n",
              "5                   COTC Yeast Extract  Core of the Core              True   \n",
              "6                   COTC Yeast Extract  Core of the Core              True   \n",
              "7                           Stock Pots  Core of the Core              True   \n",
              "8  COTC Male Anti-Perspirant Deodorant  Core of the Core             False   \n",
              "9                           Stock Pots  Core of the Core              True   \n",
              "\n",
              "  helpful_review_count                        review_hash_id  \n",
              "0                    0  3f129b02-ea76-0323-bd59-235d97a4f83f  \n",
              "1                    0  d7f3b9aa-e8b3-626d-683b-374e201c8315  \n",
              "2                    0  e58a523d-0155-a366-f107-7ac6817ac3b7  \n",
              "3                    0  aaa9bb87-4f99-bb89-65cb-3b400ebb45c0  \n",
              "4                    0  48c71b34-d7fe-5e90-51dd-239e153fb0ae  \n",
              "5                    0  573f07c3-5ec1-63df-bcaf-47dc8347d799  \n",
              "6                    0  3f0c3287-6197-dd68-9669-c9e6eafbf037  \n",
              "7                    0  91df7f82-f0be-e0fb-4726-9ca54ec408d5  \n",
              "8                    0  a089640c-9496-a786-4e3e-f8a9df03c4d7  \n",
              "9                    0  1aa09e1d-b936-0e8c-e56d-73229c2d10c1  \n",
              "\n",
              "[10 rows x 32 columns]"
            ],
            "text/html": [
              "\n",
              "  <div id=\"df-e0ec130b-a461-40de-b1e1-c4908d66f12b\">\n",
              "    <div class=\"colab-df-container\">\n",
              "      <div>\n",
              "<style scoped>\n",
              "    .dataframe tbody tr th:only-of-type {\n",
              "        vertical-align: middle;\n",
              "    }\n",
              "\n",
              "    .dataframe tbody tr th {\n",
              "        vertical-align: top;\n",
              "    }\n",
              "\n",
              "    .dataframe thead th {\n",
              "        text-align: right;\n",
              "    }\n",
              "</style>\n",
              "<table border=\"1\" class=\"dataframe\">\n",
              "  <thead>\n",
              "    <tr style=\"text-align: right;\">\n",
              "      <th></th>\n",
              "      <th>report_date</th>\n",
              "      <th>online_store</th>\n",
              "      <th>upc</th>\n",
              "      <th>retailer_product_code</th>\n",
              "      <th>brand</th>\n",
              "      <th>category</th>\n",
              "      <th>sub_category</th>\n",
              "      <th>product_description</th>\n",
              "      <th>review_date</th>\n",
              "      <th>review_rating</th>\n",
              "      <th>...</th>\n",
              "      <th>dimension2</th>\n",
              "      <th>dimension3</th>\n",
              "      <th>dimension4</th>\n",
              "      <th>dimension5</th>\n",
              "      <th>dimension6</th>\n",
              "      <th>dimension7</th>\n",
              "      <th>dimension8</th>\n",
              "      <th>verified_purchase</th>\n",
              "      <th>helpful_review_count</th>\n",
              "      <th>review_hash_id</th>\n",
              "    </tr>\n",
              "  </thead>\n",
              "  <tbody>\n",
              "    <tr>\n",
              "      <th>0</th>\n",
              "      <td>2019-01-02</td>\n",
              "      <td>FRESHAMAZON</td>\n",
              "      <td>8718114216478</td>\n",
              "      <td>B0142CI6FC</td>\n",
              "      <td>Dove Men+Care</td>\n",
              "      <td>Personal Care</td>\n",
              "      <td>Deos</td>\n",
              "      <td>Dove Men+Care Extra Fresh Anti-perspirant Deod...</td>\n",
              "      <td>2019-01-01</td>\n",
              "      <td>5</td>\n",
              "      <td>...</td>\n",
              "      <td>Male Anti-Perspirant Deodorant</td>\n",
              "      <td>COTC Male Anti-Perspirant Deodorant</td>\n",
              "      <td>NaN</td>\n",
              "      <td>NaN</td>\n",
              "      <td>NaN</td>\n",
              "      <td>COTC Male Anti-Perspirant Deodorant</td>\n",
              "      <td>Core of the Core</td>\n",
              "      <td>True</td>\n",
              "      <td>0</td>\n",
              "      <td>3f129b02-ea76-0323-bd59-235d97a4f83f</td>\n",
              "    </tr>\n",
              "    <tr>\n",
              "      <th>1</th>\n",
              "      <td>2019-01-03</td>\n",
              "      <td>FRESHAMAZON</td>\n",
              "      <td>5000184201199</td>\n",
              "      <td>B014DFNNRY</td>\n",
              "      <td>Marmite</td>\n",
              "      <td>Foods</td>\n",
              "      <td>Savoury</td>\n",
              "      <td>Marmite  Spread Yeast Extract 500g</td>\n",
              "      <td>2019-01-02</td>\n",
              "      <td>5</td>\n",
              "      <td>...</td>\n",
              "      <td>COTC Yeast Extract</td>\n",
              "      <td>COTC Yeast Extract</td>\n",
              "      <td>NaN</td>\n",
              "      <td>NaN</td>\n",
              "      <td>NaN</td>\n",
              "      <td>COTC Yeast Extract</td>\n",
              "      <td>Core of the Core</td>\n",
              "      <td>True</td>\n",
              "      <td>0</td>\n",
              "      <td>d7f3b9aa-e8b3-626d-683b-374e201c8315</td>\n",
              "    </tr>\n",
              "    <tr>\n",
              "      <th>2</th>\n",
              "      <td>2019-01-03</td>\n",
              "      <td>FRESHAMAZON</td>\n",
              "      <td>5000184201199</td>\n",
              "      <td>B014DFNNRY</td>\n",
              "      <td>Marmite</td>\n",
              "      <td>Foods</td>\n",
              "      <td>Savoury</td>\n",
              "      <td>Marmite  Spread Yeast Extract 500g</td>\n",
              "      <td>2019-01-02</td>\n",
              "      <td>4</td>\n",
              "      <td>...</td>\n",
              "      <td>COTC Yeast Extract</td>\n",
              "      <td>COTC Yeast Extract</td>\n",
              "      <td>NaN</td>\n",
              "      <td>NaN</td>\n",
              "      <td>NaN</td>\n",
              "      <td>COTC Yeast Extract</td>\n",
              "      <td>Core of the Core</td>\n",
              "      <td>True</td>\n",
              "      <td>0</td>\n",
              "      <td>e58a523d-0155-a366-f107-7ac6817ac3b7</td>\n",
              "    </tr>\n",
              "    <tr>\n",
              "      <th>3</th>\n",
              "      <td>2019-01-03</td>\n",
              "      <td>FRESHAMAZON</td>\n",
              "      <td>8712566479726</td>\n",
              "      <td>B014DFKELC</td>\n",
              "      <td>Knorr</td>\n",
              "      <td>Foods</td>\n",
              "      <td>Savoury</td>\n",
              "      <td>Knorr  Beef Stock Pot 8 x 28g</td>\n",
              "      <td>2019-01-02</td>\n",
              "      <td>5</td>\n",
              "      <td>...</td>\n",
              "      <td>Beef Stock/Pots/Cubes/Extract/Liquid/Concentrated</td>\n",
              "      <td>Stock Pots</td>\n",
              "      <td>NaN</td>\n",
              "      <td>NaN</td>\n",
              "      <td>NaN</td>\n",
              "      <td>Stock Pots</td>\n",
              "      <td>Core of the Core</td>\n",
              "      <td>True</td>\n",
              "      <td>0</td>\n",
              "      <td>aaa9bb87-4f99-bb89-65cb-3b400ebb45c0</td>\n",
              "    </tr>\n",
              "    <tr>\n",
              "      <th>4</th>\n",
              "      <td>2019-01-03</td>\n",
              "      <td>FRESHAMAZON</td>\n",
              "      <td>8717163536476</td>\n",
              "      <td>B014G37I7E</td>\n",
              "      <td>Cif</td>\n",
              "      <td>Homecare</td>\n",
              "      <td>HHC</td>\n",
              "      <td>Cif Citrus Bathroom Mousse 500ml</td>\n",
              "      <td>2019-01-02</td>\n",
              "      <td>5</td>\n",
              "      <td>...</td>\n",
              "      <td>Bathroom Mousse</td>\n",
              "      <td>Bathroom Mousse</td>\n",
              "      <td>NaN</td>\n",
              "      <td>NaN</td>\n",
              "      <td>NaN</td>\n",
              "      <td>NaN</td>\n",
              "      <td>Core of the Core</td>\n",
              "      <td>False</td>\n",
              "      <td>0</td>\n",
              "      <td>48c71b34-d7fe-5e90-51dd-239e153fb0ae</td>\n",
              "    </tr>\n",
              "    <tr>\n",
              "      <th>5</th>\n",
              "      <td>2019-01-04</td>\n",
              "      <td>AMAZONPRIMEPANTRY</td>\n",
              "      <td>5000184201199</td>\n",
              "      <td>B014DFNNRY</td>\n",
              "      <td>Marmite</td>\n",
              "      <td>Foods</td>\n",
              "      <td>Savoury</td>\n",
              "      <td>Marmite  Spread Yeast Extract 500g</td>\n",
              "      <td>2019-01-02</td>\n",
              "      <td>4</td>\n",
              "      <td>...</td>\n",
              "      <td>Yeast Extract</td>\n",
              "      <td>COTC Yeast Extract</td>\n",
              "      <td>NaN</td>\n",
              "      <td>NaN</td>\n",
              "      <td>NaN</td>\n",
              "      <td>COTC Yeast Extract</td>\n",
              "      <td>Core of the Core</td>\n",
              "      <td>True</td>\n",
              "      <td>0</td>\n",
              "      <td>573f07c3-5ec1-63df-bcaf-47dc8347d799</td>\n",
              "    </tr>\n",
              "    <tr>\n",
              "      <th>6</th>\n",
              "      <td>2019-01-04</td>\n",
              "      <td>AMAZONPRIMEPANTRY</td>\n",
              "      <td>5000184201199</td>\n",
              "      <td>B014DFNNRY</td>\n",
              "      <td>Marmite</td>\n",
              "      <td>Foods</td>\n",
              "      <td>Savoury</td>\n",
              "      <td>Marmite  Spread Yeast Extract 500g</td>\n",
              "      <td>2019-01-02</td>\n",
              "      <td>5</td>\n",
              "      <td>...</td>\n",
              "      <td>Yeast Extract</td>\n",
              "      <td>COTC Yeast Extract</td>\n",
              "      <td>NaN</td>\n",
              "      <td>NaN</td>\n",
              "      <td>NaN</td>\n",
              "      <td>COTC Yeast Extract</td>\n",
              "      <td>Core of the Core</td>\n",
              "      <td>True</td>\n",
              "      <td>0</td>\n",
              "      <td>3f0c3287-6197-dd68-9669-c9e6eafbf037</td>\n",
              "    </tr>\n",
              "    <tr>\n",
              "      <th>7</th>\n",
              "      <td>2019-01-04</td>\n",
              "      <td>AMAZONPRIMEPANTRY</td>\n",
              "      <td>8712566479726</td>\n",
              "      <td>B014DFKELC</td>\n",
              "      <td>Knorr</td>\n",
              "      <td>Foods</td>\n",
              "      <td>Savoury</td>\n",
              "      <td>Knorr  Beef Stock Pot 8 x 28g</td>\n",
              "      <td>2019-01-02</td>\n",
              "      <td>5</td>\n",
              "      <td>...</td>\n",
              "      <td>Beef Stock/Pots/Cubes/Extract/Liquid/Concentrated</td>\n",
              "      <td>Stock Pots</td>\n",
              "      <td>NaN</td>\n",
              "      <td>NaN</td>\n",
              "      <td>NaN</td>\n",
              "      <td>Stock Pots</td>\n",
              "      <td>Core of the Core</td>\n",
              "      <td>True</td>\n",
              "      <td>0</td>\n",
              "      <td>91df7f82-f0be-e0fb-4726-9ca54ec408d5</td>\n",
              "    </tr>\n",
              "    <tr>\n",
              "      <th>8</th>\n",
              "      <td>2019-01-06</td>\n",
              "      <td>FRESHAMAZON</td>\n",
              "      <td>8718114216324</td>\n",
              "      <td>B0151I60Z4</td>\n",
              "      <td>Dove Men+Care</td>\n",
              "      <td>Personal Care</td>\n",
              "      <td>Deodorants &amp; Fragrances</td>\n",
              "      <td>Dove Men+Care  Clean Comfort Aerosol Anti-pers...</td>\n",
              "      <td>2019-01-05</td>\n",
              "      <td>4</td>\n",
              "      <td>...</td>\n",
              "      <td>Male Anti-Perspirant Deodorant</td>\n",
              "      <td>COTC Male Anti-Perspirant Deodorant</td>\n",
              "      <td>NaN</td>\n",
              "      <td>NaN</td>\n",
              "      <td>NaN</td>\n",
              "      <td>COTC Male Anti-Perspirant Deodorant</td>\n",
              "      <td>Core of the Core</td>\n",
              "      <td>False</td>\n",
              "      <td>0</td>\n",
              "      <td>a089640c-9496-a786-4e3e-f8a9df03c4d7</td>\n",
              "    </tr>\n",
              "    <tr>\n",
              "      <th>9</th>\n",
              "      <td>2019-01-07</td>\n",
              "      <td>FRESHAMAZON</td>\n",
              "      <td>8712566479368</td>\n",
              "      <td>B014DFKXKY</td>\n",
              "      <td>Knorr</td>\n",
              "      <td>Foods</td>\n",
              "      <td>Savoury</td>\n",
              "      <td>Knorr  Chicken Stock Pot 8 x 28g</td>\n",
              "      <td>2019-01-06</td>\n",
              "      <td>5</td>\n",
              "      <td>...</td>\n",
              "      <td>Chicken Stock/Pots/Cubes/Extract/Liquid/Concen...</td>\n",
              "      <td>Stock Pots</td>\n",
              "      <td>NaN</td>\n",
              "      <td>NaN</td>\n",
              "      <td>NaN</td>\n",
              "      <td>Stock Pots</td>\n",
              "      <td>Core of the Core</td>\n",
              "      <td>True</td>\n",
              "      <td>0</td>\n",
              "      <td>1aa09e1d-b936-0e8c-e56d-73229c2d10c1</td>\n",
              "    </tr>\n",
              "  </tbody>\n",
              "</table>\n",
              "<p>10 rows × 32 columns</p>\n",
              "</div>\n",
              "      <button class=\"colab-df-convert\" onclick=\"convertToInteractive('df-e0ec130b-a461-40de-b1e1-c4908d66f12b')\"\n",
              "              title=\"Convert this dataframe to an interactive table.\"\n",
              "              style=\"display:none;\">\n",
              "        \n",
              "  <svg xmlns=\"http://www.w3.org/2000/svg\" height=\"24px\"viewBox=\"0 0 24 24\"\n",
              "       width=\"24px\">\n",
              "    <path d=\"M0 0h24v24H0V0z\" fill=\"none\"/>\n",
              "    <path d=\"M18.56 5.44l.94 2.06.94-2.06 2.06-.94-2.06-.94-.94-2.06-.94 2.06-2.06.94zm-11 1L8.5 8.5l.94-2.06 2.06-.94-2.06-.94L8.5 2.5l-.94 2.06-2.06.94zm10 10l.94 2.06.94-2.06 2.06-.94-2.06-.94-.94-2.06-.94 2.06-2.06.94z\"/><path d=\"M17.41 7.96l-1.37-1.37c-.4-.4-.92-.59-1.43-.59-.52 0-1.04.2-1.43.59L10.3 9.45l-7.72 7.72c-.78.78-.78 2.05 0 2.83L4 21.41c.39.39.9.59 1.41.59.51 0 1.02-.2 1.41-.59l7.78-7.78 2.81-2.81c.8-.78.8-2.07 0-2.86zM5.41 20L4 18.59l7.72-7.72 1.47 1.35L5.41 20z\"/>\n",
              "  </svg>\n",
              "      </button>\n",
              "      \n",
              "  <style>\n",
              "    .colab-df-container {\n",
              "      display:flex;\n",
              "      flex-wrap:wrap;\n",
              "      gap: 12px;\n",
              "    }\n",
              "\n",
              "    .colab-df-convert {\n",
              "      background-color: #E8F0FE;\n",
              "      border: none;\n",
              "      border-radius: 50%;\n",
              "      cursor: pointer;\n",
              "      display: none;\n",
              "      fill: #1967D2;\n",
              "      height: 32px;\n",
              "      padding: 0 0 0 0;\n",
              "      width: 32px;\n",
              "    }\n",
              "\n",
              "    .colab-df-convert:hover {\n",
              "      background-color: #E2EBFA;\n",
              "      box-shadow: 0px 1px 2px rgba(60, 64, 67, 0.3), 0px 1px 3px 1px rgba(60, 64, 67, 0.15);\n",
              "      fill: #174EA6;\n",
              "    }\n",
              "\n",
              "    [theme=dark] .colab-df-convert {\n",
              "      background-color: #3B4455;\n",
              "      fill: #D2E3FC;\n",
              "    }\n",
              "\n",
              "    [theme=dark] .colab-df-convert:hover {\n",
              "      background-color: #434B5C;\n",
              "      box-shadow: 0px 1px 3px 1px rgba(0, 0, 0, 0.15);\n",
              "      filter: drop-shadow(0px 1px 2px rgba(0, 0, 0, 0.3));\n",
              "      fill: #FFFFFF;\n",
              "    }\n",
              "  </style>\n",
              "\n",
              "      <script>\n",
              "        const buttonEl =\n",
              "          document.querySelector('#df-e0ec130b-a461-40de-b1e1-c4908d66f12b button.colab-df-convert');\n",
              "        buttonEl.style.display =\n",
              "          google.colab.kernel.accessAllowed ? 'block' : 'none';\n",
              "\n",
              "        async function convertToInteractive(key) {\n",
              "          const element = document.querySelector('#df-e0ec130b-a461-40de-b1e1-c4908d66f12b');\n",
              "          const dataTable =\n",
              "            await google.colab.kernel.invokeFunction('convertToInteractive',\n",
              "                                                     [key], {});\n",
              "          if (!dataTable) return;\n",
              "\n",
              "          const docLinkHtml = 'Like what you see? Visit the ' +\n",
              "            '<a target=\"_blank\" href=https://colab.research.google.com/notebooks/data_table.ipynb>data table notebook</a>'\n",
              "            + ' to learn more about interactive tables.';\n",
              "          element.innerHTML = '';\n",
              "          dataTable['output_type'] = 'display_data';\n",
              "          await google.colab.output.renderOutput(dataTable, element);\n",
              "          const docLink = document.createElement('div');\n",
              "          docLink.innerHTML = docLinkHtml;\n",
              "          element.appendChild(docLink);\n",
              "        }\n",
              "      </script>\n",
              "    </div>\n",
              "  </div>\n",
              "  "
            ]
          },
          "metadata": {},
          "execution_count": 2
        }
      ]
    },
    {
      "cell_type": "markdown",
      "source": [
        "#DATA CLEANING\n"
      ],
      "metadata": {
        "id": "YXr_3QN4lrtS"
      }
    },
    {
      "cell_type": "code",
      "source": [
        "df.head(2)"
      ],
      "metadata": {
        "colab": {
          "base_uri": "https://localhost:8080/",
          "height": 292
        },
        "id": "w1qaaoF3mJUf",
        "outputId": "503e0228-23f2-409b-d0c8-39ac18b26f9e"
      },
      "execution_count": null,
      "outputs": [
        {
          "output_type": "execute_result",
          "data": {
            "text/plain": [
              "  report_date online_store            upc retailer_product_code  \\\n",
              "0  2019-01-02  FRESHAMAZON  8718114216478            B0142CI6FC   \n",
              "1  2019-01-03  FRESHAMAZON  5000184201199            B014DFNNRY   \n",
              "\n",
              "           brand       category sub_category  \\\n",
              "0  Dove Men+Care  Personal Care         Deos   \n",
              "1        Marmite          Foods      Savoury   \n",
              "\n",
              "                                 product_description review_date  \\\n",
              "0  Dove Men+Care Extra Fresh Anti-perspirant Deod...  2019-01-01   \n",
              "1                 Marmite  Spread Yeast Extract 500g  2019-01-02   \n",
              "\n",
              "   review_rating  ...                      dimension2  \\\n",
              "0              5  ...  Male Anti-Perspirant Deodorant   \n",
              "1              5  ...              COTC Yeast Extract   \n",
              "\n",
              "                            dimension3  dimension4 dimension5 dimension6  \\\n",
              "0  COTC Male Anti-Perspirant Deodorant         NaN        NaN        NaN   \n",
              "1                   COTC Yeast Extract         NaN        NaN        NaN   \n",
              "\n",
              "                            dimension7        dimension8 verified_purchase  \\\n",
              "0  COTC Male Anti-Perspirant Deodorant  Core of the Core              True   \n",
              "1                   COTC Yeast Extract  Core of the Core              True   \n",
              "\n",
              "  helpful_review_count                        review_hash_id  \n",
              "0                    0  3f129b02-ea76-0323-bd59-235d97a4f83f  \n",
              "1                    0  d7f3b9aa-e8b3-626d-683b-374e201c8315  \n",
              "\n",
              "[2 rows x 32 columns]"
            ],
            "text/html": [
              "\n",
              "  <div id=\"df-0c2ce37d-7b5b-44f2-98a1-4682c941e4fe\">\n",
              "    <div class=\"colab-df-container\">\n",
              "      <div>\n",
              "<style scoped>\n",
              "    .dataframe tbody tr th:only-of-type {\n",
              "        vertical-align: middle;\n",
              "    }\n",
              "\n",
              "    .dataframe tbody tr th {\n",
              "        vertical-align: top;\n",
              "    }\n",
              "\n",
              "    .dataframe thead th {\n",
              "        text-align: right;\n",
              "    }\n",
              "</style>\n",
              "<table border=\"1\" class=\"dataframe\">\n",
              "  <thead>\n",
              "    <tr style=\"text-align: right;\">\n",
              "      <th></th>\n",
              "      <th>report_date</th>\n",
              "      <th>online_store</th>\n",
              "      <th>upc</th>\n",
              "      <th>retailer_product_code</th>\n",
              "      <th>brand</th>\n",
              "      <th>category</th>\n",
              "      <th>sub_category</th>\n",
              "      <th>product_description</th>\n",
              "      <th>review_date</th>\n",
              "      <th>review_rating</th>\n",
              "      <th>...</th>\n",
              "      <th>dimension2</th>\n",
              "      <th>dimension3</th>\n",
              "      <th>dimension4</th>\n",
              "      <th>dimension5</th>\n",
              "      <th>dimension6</th>\n",
              "      <th>dimension7</th>\n",
              "      <th>dimension8</th>\n",
              "      <th>verified_purchase</th>\n",
              "      <th>helpful_review_count</th>\n",
              "      <th>review_hash_id</th>\n",
              "    </tr>\n",
              "  </thead>\n",
              "  <tbody>\n",
              "    <tr>\n",
              "      <th>0</th>\n",
              "      <td>2019-01-02</td>\n",
              "      <td>FRESHAMAZON</td>\n",
              "      <td>8718114216478</td>\n",
              "      <td>B0142CI6FC</td>\n",
              "      <td>Dove Men+Care</td>\n",
              "      <td>Personal Care</td>\n",
              "      <td>Deos</td>\n",
              "      <td>Dove Men+Care Extra Fresh Anti-perspirant Deod...</td>\n",
              "      <td>2019-01-01</td>\n",
              "      <td>5</td>\n",
              "      <td>...</td>\n",
              "      <td>Male Anti-Perspirant Deodorant</td>\n",
              "      <td>COTC Male Anti-Perspirant Deodorant</td>\n",
              "      <td>NaN</td>\n",
              "      <td>NaN</td>\n",
              "      <td>NaN</td>\n",
              "      <td>COTC Male Anti-Perspirant Deodorant</td>\n",
              "      <td>Core of the Core</td>\n",
              "      <td>True</td>\n",
              "      <td>0</td>\n",
              "      <td>3f129b02-ea76-0323-bd59-235d97a4f83f</td>\n",
              "    </tr>\n",
              "    <tr>\n",
              "      <th>1</th>\n",
              "      <td>2019-01-03</td>\n",
              "      <td>FRESHAMAZON</td>\n",
              "      <td>5000184201199</td>\n",
              "      <td>B014DFNNRY</td>\n",
              "      <td>Marmite</td>\n",
              "      <td>Foods</td>\n",
              "      <td>Savoury</td>\n",
              "      <td>Marmite  Spread Yeast Extract 500g</td>\n",
              "      <td>2019-01-02</td>\n",
              "      <td>5</td>\n",
              "      <td>...</td>\n",
              "      <td>COTC Yeast Extract</td>\n",
              "      <td>COTC Yeast Extract</td>\n",
              "      <td>NaN</td>\n",
              "      <td>NaN</td>\n",
              "      <td>NaN</td>\n",
              "      <td>COTC Yeast Extract</td>\n",
              "      <td>Core of the Core</td>\n",
              "      <td>True</td>\n",
              "      <td>0</td>\n",
              "      <td>d7f3b9aa-e8b3-626d-683b-374e201c8315</td>\n",
              "    </tr>\n",
              "  </tbody>\n",
              "</table>\n",
              "<p>2 rows × 32 columns</p>\n",
              "</div>\n",
              "      <button class=\"colab-df-convert\" onclick=\"convertToInteractive('df-0c2ce37d-7b5b-44f2-98a1-4682c941e4fe')\"\n",
              "              title=\"Convert this dataframe to an interactive table.\"\n",
              "              style=\"display:none;\">\n",
              "        \n",
              "  <svg xmlns=\"http://www.w3.org/2000/svg\" height=\"24px\"viewBox=\"0 0 24 24\"\n",
              "       width=\"24px\">\n",
              "    <path d=\"M0 0h24v24H0V0z\" fill=\"none\"/>\n",
              "    <path d=\"M18.56 5.44l.94 2.06.94-2.06 2.06-.94-2.06-.94-.94-2.06-.94 2.06-2.06.94zm-11 1L8.5 8.5l.94-2.06 2.06-.94-2.06-.94L8.5 2.5l-.94 2.06-2.06.94zm10 10l.94 2.06.94-2.06 2.06-.94-2.06-.94-.94-2.06-.94 2.06-2.06.94z\"/><path d=\"M17.41 7.96l-1.37-1.37c-.4-.4-.92-.59-1.43-.59-.52 0-1.04.2-1.43.59L10.3 9.45l-7.72 7.72c-.78.78-.78 2.05 0 2.83L4 21.41c.39.39.9.59 1.41.59.51 0 1.02-.2 1.41-.59l7.78-7.78 2.81-2.81c.8-.78.8-2.07 0-2.86zM5.41 20L4 18.59l7.72-7.72 1.47 1.35L5.41 20z\"/>\n",
              "  </svg>\n",
              "      </button>\n",
              "      \n",
              "  <style>\n",
              "    .colab-df-container {\n",
              "      display:flex;\n",
              "      flex-wrap:wrap;\n",
              "      gap: 12px;\n",
              "    }\n",
              "\n",
              "    .colab-df-convert {\n",
              "      background-color: #E8F0FE;\n",
              "      border: none;\n",
              "      border-radius: 50%;\n",
              "      cursor: pointer;\n",
              "      display: none;\n",
              "      fill: #1967D2;\n",
              "      height: 32px;\n",
              "      padding: 0 0 0 0;\n",
              "      width: 32px;\n",
              "    }\n",
              "\n",
              "    .colab-df-convert:hover {\n",
              "      background-color: #E2EBFA;\n",
              "      box-shadow: 0px 1px 2px rgba(60, 64, 67, 0.3), 0px 1px 3px 1px rgba(60, 64, 67, 0.15);\n",
              "      fill: #174EA6;\n",
              "    }\n",
              "\n",
              "    [theme=dark] .colab-df-convert {\n",
              "      background-color: #3B4455;\n",
              "      fill: #D2E3FC;\n",
              "    }\n",
              "\n",
              "    [theme=dark] .colab-df-convert:hover {\n",
              "      background-color: #434B5C;\n",
              "      box-shadow: 0px 1px 3px 1px rgba(0, 0, 0, 0.15);\n",
              "      filter: drop-shadow(0px 1px 2px rgba(0, 0, 0, 0.3));\n",
              "      fill: #FFFFFF;\n",
              "    }\n",
              "  </style>\n",
              "\n",
              "      <script>\n",
              "        const buttonEl =\n",
              "          document.querySelector('#df-0c2ce37d-7b5b-44f2-98a1-4682c941e4fe button.colab-df-convert');\n",
              "        buttonEl.style.display =\n",
              "          google.colab.kernel.accessAllowed ? 'block' : 'none';\n",
              "\n",
              "        async function convertToInteractive(key) {\n",
              "          const element = document.querySelector('#df-0c2ce37d-7b5b-44f2-98a1-4682c941e4fe');\n",
              "          const dataTable =\n",
              "            await google.colab.kernel.invokeFunction('convertToInteractive',\n",
              "                                                     [key], {});\n",
              "          if (!dataTable) return;\n",
              "\n",
              "          const docLinkHtml = 'Like what you see? Visit the ' +\n",
              "            '<a target=\"_blank\" href=https://colab.research.google.com/notebooks/data_table.ipynb>data table notebook</a>'\n",
              "            + ' to learn more about interactive tables.';\n",
              "          element.innerHTML = '';\n",
              "          dataTable['output_type'] = 'display_data';\n",
              "          await google.colab.output.renderOutput(dataTable, element);\n",
              "          const docLink = document.createElement('div');\n",
              "          docLink.innerHTML = docLinkHtml;\n",
              "          element.appendChild(docLink);\n",
              "        }\n",
              "      </script>\n",
              "    </div>\n",
              "  </div>\n",
              "  "
            ]
          },
          "metadata": {},
          "execution_count": 3
        }
      ]
    },
    {
      "cell_type": "code",
      "source": [
        "df.info()"
      ],
      "metadata": {
        "colab": {
          "base_uri": "https://localhost:8080/"
        },
        "id": "A7_2KJWfmpMe",
        "outputId": "a53cca8b-45b1-4f5c-c1a6-d9ebd3b9ea81"
      },
      "execution_count": null,
      "outputs": [
        {
          "output_type": "stream",
          "name": "stdout",
          "text": [
            "<class 'pandas.core.frame.DataFrame'>\n",
            "RangeIndex: 2501 entries, 0 to 2500\n",
            "Data columns (total 32 columns):\n",
            " #   Column                  Non-Null Count  Dtype         \n",
            "---  ------                  --------------  -----         \n",
            " 0   report_date             2501 non-null   datetime64[ns]\n",
            " 1   online_store            2501 non-null   object        \n",
            " 2   upc                     2501 non-null   int64         \n",
            " 3   retailer_product_code   2501 non-null   object        \n",
            " 4   brand                   2501 non-null   object        \n",
            " 5   category                2501 non-null   object        \n",
            " 6   sub_category            2501 non-null   object        \n",
            " 7   product_description     2501 non-null   object        \n",
            " 8   review_date             2501 non-null   datetime64[ns]\n",
            " 9   review_rating           2501 non-null   int64         \n",
            " 10  review_title            2403 non-null   object        \n",
            " 11  review_text             2501 non-null   object        \n",
            " 12  is_competitor           2501 non-null   int64         \n",
            " 13  manufacturer            2501 non-null   object        \n",
            " 14  market                  2501 non-null   object        \n",
            " 15  matched_keywords        0 non-null      float64       \n",
            " 16  time_of_publication     0 non-null      float64       \n",
            " 17  url                     1654 non-null   object        \n",
            " 18  review_type             2501 non-null   object        \n",
            " 19  parent_review           2501 non-null   object        \n",
            " 20  manufacturers_response  0 non-null      float64       \n",
            " 21  dimension1              2501 non-null   object        \n",
            " 22  dimension2              2501 non-null   object        \n",
            " 23  dimension3              2310 non-null   object        \n",
            " 24  dimension4              0 non-null      float64       \n",
            " 25  dimension5              0 non-null      float64       \n",
            " 26  dimension6              0 non-null      float64       \n",
            " 27  dimension7              2499 non-null   object        \n",
            " 28  dimension8              2501 non-null   object        \n",
            " 29  verified_purchase       2501 non-null   bool          \n",
            " 30  helpful_review_count    2501 non-null   int64         \n",
            " 31  review_hash_id          2501 non-null   object        \n",
            "dtypes: bool(1), datetime64[ns](2), float64(6), int64(4), object(19)\n",
            "memory usage: 608.3+ KB\n"
          ]
        }
      ]
    },
    {
      "cell_type": "code",
      "source": [
        "print(df['review_rating'].value_counts())\n",
        "df['review_rating'].value_counts().plot.bar(color='yellow')"
      ],
      "metadata": {
        "colab": {
          "base_uri": "https://localhost:8080/",
          "height": 546
        },
        "id": "ECVw7HFDmvoF",
        "outputId": "7221dfb5-42af-434c-b9f4-9772f25bd652"
      },
      "execution_count": null,
      "outputs": [
        {
          "output_type": "stream",
          "name": "stdout",
          "text": [
            "5    1848\n",
            "4     319\n",
            "1     146\n",
            "3     107\n",
            "2      81\n",
            "Name: review_rating, dtype: int64\n"
          ]
        },
        {
          "output_type": "execute_result",
          "data": {
            "text/plain": [
              "<Axes: >"
            ]
          },
          "metadata": {},
          "execution_count": 5
        },
        {
          "output_type": "display_data",
          "data": {
            "text/plain": [
              "<Figure size 640x480 with 1 Axes>"
            ],
            "image/png": "[encoded data removed]"
          },
          "metadata": {}
        }
      ]
    },
    {
      "cell_type": "code",
      "source": [
        "df.isnull().sum()"
      ],
      "metadata": {
        "colab": {
          "base_uri": "https://localhost:8080/"
        },
        "id": "bduZdzR7mscC",
        "outputId": "d2a929f9-d8b9-4e1a-96c5-95ba0034741f"
      },
      "execution_count": null,
      "outputs": [
        {
          "output_type": "execute_result",
          "data": {
            "text/plain": [
              "report_date                  0\n",
              "online_store                 0\n",
              "upc                          0\n",
              "retailer_product_code        0\n",
              "brand                        0\n",
              "category                     0\n",
              "sub_category                 0\n",
              "product_description          0\n",
              "review_date                  0\n",
              "review_rating                0\n",
              "review_title                98\n",
              "review_text                  0\n",
              "is_competitor                0\n",
              "manufacturer                 0\n",
              "market                       0\n",
              "matched_keywords          2501\n",
              "time_of_publication       2501\n",
              "url                        847\n",
              "review_type                  0\n",
              "parent_review                0\n",
              "manufacturers_response    2501\n",
              "dimension1                   0\n",
              "dimension2                   0\n",
              "dimension3                 191\n",
              "dimension4                2501\n",
              "dimension5                2501\n",
              "dimension6                2501\n",
              "dimension7                   2\n",
              "dimension8                   0\n",
              "verified_purchase            0\n",
              "helpful_review_count         0\n",
              "review_hash_id               0\n",
              "dtype: int64"
            ]
          },
          "metadata": {},
          "execution_count": 6
        }
      ]
    },
    {
      "cell_type": "code",
      "source": [
        "df = df.dropna()"
      ],
      "metadata": {
        "id": "I6DVg7LBnE1r"
      },
      "execution_count": null,
      "outputs": []
    },
    {
      "cell_type": "code",
      "source": [
        "df['sentiments'] = df['review_rating'].apply(lambda x: 0 if x == [1, 2] else 1)\n",
        "df.head()"
      ],
      "metadata": {
        "colab": {
          "base_uri": "https://localhost:8080/",
          "height": 143
        },
        "id": "kIv2yxQUnME7",
        "outputId": "61269af0-5bf2-4457-b861-d5fa0a7fdcf4"
      },
      "execution_count": null,
      "outputs": [
        {
          "output_type": "execute_result",
          "data": {
            "text/plain": [
              "Empty DataFrame\n",
              "Columns: [report_date, online_store, upc, retailer_product_code, brand, category, sub_category, product_description, review_date, review_rating, review_title, review_text, is_competitor, manufacturer, market, matched_keywords, time_of_publication, url, review_type, parent_review, manufacturers_response, dimension1, dimension2, dimension3, dimension4, dimension5, dimension6, dimension7, dimension8, verified_purchase, helpful_review_count, review_hash_id, sentiments]\n",
              "Index: []\n",
              "\n",
              "[0 rows x 33 columns]"
            ],
            "text/html": [
              "\n",
              "  <div id=\"df-11fa33bf-fbac-469b-8312-29d5e897e880\">\n",
              "    <div class=\"colab-df-container\">\n",
              "      <div>\n",
              "<style scoped>\n",
              "    .dataframe tbody tr th:only-of-type {\n",
              "        vertical-align: middle;\n",
              "    }\n",
              "\n",
              "    .dataframe tbody tr th {\n",
              "        vertical-align: top;\n",
              "    }\n",
              "\n",
              "    .dataframe thead th {\n",
              "        text-align: right;\n",
              "    }\n",
              "</style>\n",
              "<table border=\"1\" class=\"dataframe\">\n",
              "  <thead>\n",
              "    <tr style=\"text-align: right;\">\n",
              "      <th></th>\n",
              "      <th>report_date</th>\n",
              "      <th>online_store</th>\n",
              "      <th>upc</th>\n",
              "      <th>retailer_product_code</th>\n",
              "      <th>brand</th>\n",
              "      <th>category</th>\n",
              "      <th>sub_category</th>\n",
              "      <th>product_description</th>\n",
              "      <th>review_date</th>\n",
              "      <th>review_rating</th>\n",
              "      <th>...</th>\n",
              "      <th>dimension3</th>\n",
              "      <th>dimension4</th>\n",
              "      <th>dimension5</th>\n",
              "      <th>dimension6</th>\n",
              "      <th>dimension7</th>\n",
              "      <th>dimension8</th>\n",
              "      <th>verified_purchase</th>\n",
              "      <th>helpful_review_count</th>\n",
              "      <th>review_hash_id</th>\n",
              "      <th>sentiments</th>\n",
              "    </tr>\n",
              "  </thead>\n",
              "  <tbody>\n",
              "  </tbody>\n",
              "</table>\n",
              "<p>0 rows × 33 columns</p>\n",
              "</div>\n",
              "      <button class=\"colab-df-convert\" onclick=\"convertToInteractive('df-11fa33bf-fbac-469b-8312-29d5e897e880')\"\n",
              "              title=\"Convert this dataframe to an interactive table.\"\n",
              "              style=\"display:none;\">\n",
              "        \n",
              "  <svg xmlns=\"http://www.w3.org/2000/svg\" height=\"24px\"viewBox=\"0 0 24 24\"\n",
              "       width=\"24px\">\n",
              "    <path d=\"M0 0h24v24H0V0z\" fill=\"none\"/>\n",
              "    <path d=\"M18.56 5.44l.94 2.06.94-2.06 2.06-.94-2.06-.94-.94-2.06-.94 2.06-2.06.94zm-11 1L8.5 8.5l.94-2.06 2.06-.94-2.06-.94L8.5 2.5l-.94 2.06-2.06.94zm10 10l.94 2.06.94-2.06 2.06-.94-2.06-.94-.94-2.06-.94 2.06-2.06.94z\"/><path d=\"M17.41 7.96l-1.37-1.37c-.4-.4-.92-.59-1.43-.59-.52 0-1.04.2-1.43.59L10.3 9.45l-7.72 7.72c-.78.78-.78 2.05 0 2.83L4 21.41c.39.39.9.59 1.41.59.51 0 1.02-.2 1.41-.59l7.78-7.78 2.81-2.81c.8-.78.8-2.07 0-2.86zM5.41 20L4 18.59l7.72-7.72 1.47 1.35L5.41 20z\"/>\n",
              "  </svg>\n",
              "      </button>\n",
              "      \n",
              "  <style>\n",
              "    .colab-df-container {\n",
              "      display:flex;\n",
              "      flex-wrap:wrap;\n",
              "      gap: 12px;\n",
              "    }\n",
              "\n",
              "    .colab-df-convert {\n",
              "      background-color: #E8F0FE;\n",
              "      border: none;\n",
              "      border-radius: 50%;\n",
              "      cursor: pointer;\n",
              "      display: none;\n",
              "      fill: #1967D2;\n",
              "      height: 32px;\n",
              "      padding: 0 0 0 0;\n",
              "      width: 32px;\n",
              "    }\n",
              "\n",
              "    .colab-df-convert:hover {\n",
              "      background-color: #E2EBFA;\n",
              "      box-shadow: 0px 1px 2px rgba(60, 64, 67, 0.3), 0px 1px 3px 1px rgba(60, 64, 67, 0.15);\n",
              "      fill: #174EA6;\n",
              "    }\n",
              "\n",
              "    [theme=dark] .colab-df-convert {\n",
              "      background-color: #3B4455;\n",
              "      fill: #D2E3FC;\n",
              "    }\n",
              "\n",
              "    [theme=dark] .colab-df-convert:hover {\n",
              "      background-color: #434B5C;\n",
              "      box-shadow: 0px 1px 3px 1px rgba(0, 0, 0, 0.15);\n",
              "      filter: drop-shadow(0px 1px 2px rgba(0, 0, 0, 0.3));\n",
              "      fill: #FFFFFF;\n",
              "    }\n",
              "  </style>\n",
              "\n",
              "      <script>\n",
              "        const buttonEl =\n",
              "          document.querySelector('#df-11fa33bf-fbac-469b-8312-29d5e897e880 button.colab-df-convert');\n",
              "        buttonEl.style.display =\n",
              "          google.colab.kernel.accessAllowed ? 'block' : 'none';\n",
              "\n",
              "        async function convertToInteractive(key) {\n",
              "          const element = document.querySelector('#df-11fa33bf-fbac-469b-8312-29d5e897e880');\n",
              "          const dataTable =\n",
              "            await google.colab.kernel.invokeFunction('convertToInteractive',\n",
              "                                                     [key], {});\n",
              "          if (!dataTable) return;\n",
              "\n",
              "          const docLinkHtml = 'Like what you see? Visit the ' +\n",
              "            '<a target=\"_blank\" href=https://colab.research.google.com/notebooks/data_table.ipynb>data table notebook</a>'\n",
              "            + ' to learn more about interactive tables.';\n",
              "          element.innerHTML = '';\n",
              "          dataTable['output_type'] = 'display_data';\n",
              "          await google.colab.output.renderOutput(dataTable, element);\n",
              "          const docLink = document.createElement('div');\n",
              "          docLink.innerHTML = docLinkHtml;\n",
              "          element.appendChild(docLink);\n",
              "        }\n",
              "      </script>\n",
              "    </div>\n",
              "  </div>\n",
              "  "
            ]
          },
          "metadata": {},
          "execution_count": 8
        }
      ]
    },
    {
      "cell_type": "code",
      "source": [
        "# Dependent Features\n",
        "y = df['sentiments']\n",
        "\n",
        "# Independent Features\n",
        "X = df.drop('sentiments', axis=1)"
      ],
      "metadata": {
        "id": "87MwzJvgnUSk"
      },
      "execution_count": null,
      "outputs": []
    },
    {
      "cell_type": "code",
      "source": [
        "#Make a copy of data set for emergency\n",
        "messages = X.copy()\n",
        "messages = messages.reset_index()   ## we reset the index because above we drop the nan values because of this the index will be disturb"
      ],
      "metadata": {
        "id": "TeQIX8BNngTa"
      },
      "execution_count": null,
      "outputs": []
    },
    {
      "cell_type": "markdown",
      "source": [
        "#NLP implemntation\n",
        "\n",
        "Step 1: Stemming the words"
      ],
      "metadata": {
        "id": "UL3Cs22knsXm"
      }
    },
    {
      "cell_type": "code",
      "source": [
        "#Changing words to root words\n",
        "import nltk\n",
        "nltk.download('stopwords')\n",
        "\n",
        "stopwords = set(stopwords.words('english'))"
      ],
      "metadata": {
        "colab": {
          "base_uri": "https://localhost:8080/"
        },
        "id": "4bTjAwDBn0wa",
        "outputId": "f5647d9d-6f93-4a71-d1cc-f5cc105599b9"
      },
      "execution_count": null,
      "outputs": [
        {
          "output_type": "stream",
          "name": "stderr",
          "text": [
            "[nltk_data] Downloading package stopwords to /root/nltk_data...\n",
            "[nltk_data]   Unzipping corpora/stopwords.zip.\n"
          ]
        }
      ]
    },
    {
      "cell_type": "code",
      "source": [
        "ps = PorterStemmer()\n",
        "corpus = []\n",
        "for i in range(0, len(messages)):\n",
        "    review = re.sub('[^a-zA-Z]', ' ', messages['review_text'][i])\n",
        "    review = review.lower()\n",
        "    review = review.split()\n",
        "\n",
        "    review = [ps.stem(word) for word in review if not word in stopwords]\n",
        "    review = ' '.join(review)\n",
        "    corpus.append(review)"
      ],
      "metadata": {
        "id": "Ico1lsKUnoR4"
      },
      "execution_count": null,
      "outputs": []
    },
    {
      "cell_type": "code",
      "source": [
        "corpus[1]"
      ],
      "metadata": {
        "colab": {
          "base_uri": "https://localhost:8080/",
          "height": 165
        },
        "id": "zfsMsdmMoPS9",
        "outputId": "117763d3-080a-4702-89c9-592f884403b5"
      },
      "execution_count": null,
      "outputs": [
        {
          "output_type": "error",
          "ename": "IndexError",
          "evalue": "ignored",
          "traceback": [
            "\u001b[0;31m---------------------------------------------------------------------------\u001b[0m",
            "\u001b[0;31mIndexError\u001b[0m                                Traceback (most recent call last)",
            "\u001b[0;32m<ipython-input-13-c85ff6af8455>\u001b[0m in \u001b[0;36m<cell line: 1>\u001b[0;34m()\u001b[0m\n\u001b[0;32m----> 1\u001b[0;31m \u001b[0mcorpus\u001b[0m\u001b[0;34m[\u001b[0m\u001b[0;36m1\u001b[0m\u001b[0;34m]\u001b[0m\u001b[0;34m\u001b[0m\u001b[0;34m\u001b[0m\u001b[0m\n\u001b[0m",
            "\u001b[0;31mIndexError\u001b[0m: list index out of range"
          ]
        }
      ]
    },
    {
      "cell_type": "code",
      "source": [
        "#Now tokenize the dataset\n",
        "voc_size = 15000\n",
        "max_length = 120\n",
        "embedding_dim = 16"
      ],
      "metadata": {
        "id": "2xb-GDONoSK8"
      },
      "execution_count": null,
      "outputs": []
    },
    {
      "cell_type": "code",
      "source": [
        "from tensorflow.keras.preprocessing.text import Tokenizer\n",
        "tokenizer = Tokenizer(num_words=voc_size, oov_token='<OOV>')\n",
        "tokenizer.fit_on_texts(corpus)"
      ],
      "metadata": {
        "id": "S9YvSaO4SFxr"
      },
      "execution_count": null,
      "outputs": []
    },
    {
      "cell_type": "code",
      "source": [
        "sequences = tokenizer.texts_to_sequences(corpus)\n",
        "\n",
        "embedded_docs = pad_sequences(sequences, maxlen=max_length, padding='post', truncating= 'post')"
      ],
      "metadata": {
        "id": "jF_pOEShSH-Y"
      },
      "execution_count": null,
      "outputs": []
    },
    {
      "cell_type": "code",
      "source": [
        "X_final = np.array(embedded_docs)\n",
        "y_final = np.array(y)"
      ],
      "metadata": {
        "id": "2LY9CzruSMun"
      },
      "execution_count": null,
      "outputs": []
    },
    {
      "cell_type": "code",
      "source": [
        "X_final.shape, y_final.shape"
      ],
      "metadata": {
        "colab": {
          "base_uri": "https://localhost:8080/"
        },
        "id": "guhfPzp8SNaq",
        "outputId": "024fdd03-025f-4f7d-86e0-199dfeabaef4"
      },
      "execution_count": null,
      "outputs": [
        {
          "output_type": "execute_result",
          "data": {
            "text/plain": [
              "((0, 120), (0,))"
            ]
          },
          "metadata": {},
          "execution_count": 18
        }
      ]
    },
    {
      "cell_type": "code",
      "source": [
        "model = Sequential()\n",
        "model.add(Embedding(voc_size, embedding_dim, input_length=max_length))\n",
        "model.add(LSTM(100))\n",
        "model.add(Dense(64, activation= 'relu'))\n",
        "model.add(Dense(32, activation = 'relu'))\n",
        "model.add(Dense(1, activation = 'sigmoid'))\n",
        "model.compile(loss = 'binary_crossentropy', optimizer = 'adam', metrics = ['accuracy'])\n",
        "print(model.summary())"
      ],
      "metadata": {
        "colab": {
          "base_uri": "https://localhost:8080/"
        },
        "id": "aNA73F7hSPw7",
        "outputId": "73ce4caa-7861-4025-9fab-2068005e97a2"
      },
      "execution_count": null,
      "outputs": [
        {
          "output_type": "stream",
          "name": "stdout",
          "text": [
            "Model: \"sequential\"\n",
            "_________________________________________________________________\n",
            " Layer (type)                Output Shape              Param #   \n",
            "=================================================================\n",
            " embedding (Embedding)       (None, 120, 16)           240000    \n",
            "                                                                 \n",
            " lstm (LSTM)                 (None, 100)               46800     \n",
            "                                                                 \n",
            " dense (Dense)               (None, 64)                6464      \n",
            "                                                                 \n",
            " dense_1 (Dense)             (None, 32)                2080      \n",
            "                                                                 \n",
            " dense_2 (Dense)             (None, 1)                 33        \n",
            "                                                                 \n",
            "=================================================================\n",
            "Total params: 295,377\n",
            "Trainable params: 295,377\n",
            "Non-trainable params: 0\n",
            "_________________________________________________________________\n",
            "None\n"
          ]
        }
      ]
    },
    {
      "cell_type": "code",
      "source": [
        "import nltk\n",
        "nltk.download('stopwords')\n",
        "nltk.download('punkt')\n",
        "nltk.download('wordnet')"
      ],
      "metadata": {
        "id": "BjrhoROFSaZE",
        "colab": {
          "base_uri": "https://localhost:8080/"
        },
        "outputId": "dc4b8f5c-90d9-4d0e-9ae8-b726370f3e05"
      },
      "execution_count": null,
      "outputs": [
        {
          "output_type": "stream",
          "name": "stderr",
          "text": [
            "[nltk_data] Downloading package stopwords to /root/nltk_data...\n",
            "[nltk_data]   Package stopwords is already up-to-date!\n",
            "[nltk_data] Downloading package punkt to /root/nltk_data...\n",
            "[nltk_data]   Unzipping tokenizers/punkt.zip.\n",
            "[nltk_data] Downloading package wordnet to /root/nltk_data...\n"
          ]
        },
        {
          "output_type": "execute_result",
          "data": {
            "text/plain": [
              "True"
            ]
          },
          "metadata": {},
          "execution_count": 20
        }
      ]
    }
  ]
}